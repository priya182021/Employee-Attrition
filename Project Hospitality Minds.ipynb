{
 "cells": [
  {
   "cell_type": "code",
   "execution_count": 1,
   "metadata": {
    "id": "NwWWzcj1lEMi"
   },
   "outputs": [],
   "source": [
    "import numpy as np\n",
    "import pandas as pd"
   ]
  },
  {
   "cell_type": "code",
   "execution_count": 3,
   "metadata": {
    "id": "R7PyuVHhvzzW"
   },
   "outputs": [],
   "source": [
    "df=pd.read_csv(\"Hospitality minds dataset.csv\")"
   ]
  },
  {
   "cell_type": "code",
   "execution_count": 4,
   "metadata": {
    "colab": {
     "base_uri": "https://localhost:8080/",
     "height": 421
    },
    "id": "guU1ohcnv0_H",
    "outputId": "52ef13fe-e9df-45ad-932b-c8356e01491a"
   },
   "outputs": [
    {
     "data": {
      "text/html": [
       "<div>\n",
       "<style scoped>\n",
       "    .dataframe tbody tr th:only-of-type {\n",
       "        vertical-align: middle;\n",
       "    }\n",
       "\n",
       "    .dataframe tbody tr th {\n",
       "        vertical-align: top;\n",
       "    }\n",
       "\n",
       "    .dataframe thead th {\n",
       "        text-align: right;\n",
       "    }\n",
       "</style>\n",
       "<table border=\"1\" class=\"dataframe\">\n",
       "  <thead>\n",
       "    <tr style=\"text-align: right;\">\n",
       "      <th></th>\n",
       "      <th>Type of Hotel</th>\n",
       "      <th>Year</th>\n",
       "      <th>Month</th>\n",
       "      <th>Reservation Date</th>\n",
       "      <th>Arrival week</th>\n",
       "      <th>Arrival Date</th>\n",
       "      <th>Weekend Stays</th>\n",
       "      <th>Weekday Stays</th>\n",
       "      <th>Meal</th>\n",
       "      <th>Booking Payment</th>\n",
       "      <th>...</th>\n",
       "      <th>Assigned Room</th>\n",
       "      <th>Booking Changes</th>\n",
       "      <th>Waiting List</th>\n",
       "      <th>Customer</th>\n",
       "      <th>Per Day Charges</th>\n",
       "      <th>Parking at premises</th>\n",
       "      <th>Physical Challenged</th>\n",
       "      <th>Reservation Status</th>\n",
       "      <th>Cancellation</th>\n",
       "      <th>Booking Done</th>\n",
       "    </tr>\n",
       "  </thead>\n",
       "  <tbody>\n",
       "    <tr>\n",
       "      <th>0</th>\n",
       "      <td>Motel</td>\n",
       "      <td>2015</td>\n",
       "      <td>July</td>\n",
       "      <td>03-08-2015</td>\n",
       "      <td>31</td>\n",
       "      <td>28</td>\n",
       "      <td>2</td>\n",
       "      <td>3</td>\n",
       "      <td>Bed &amp; Breakfast</td>\n",
       "      <td>No Deposit</td>\n",
       "      <td>...</td>\n",
       "      <td>A</td>\n",
       "      <td>0</td>\n",
       "      <td>0</td>\n",
       "      <td>Contract</td>\n",
       "      <td>132.0</td>\n",
       "      <td>0</td>\n",
       "      <td>2</td>\n",
       "      <td>Check-Out</td>\n",
       "      <td>0</td>\n",
       "      <td>44</td>\n",
       "    </tr>\n",
       "    <tr>\n",
       "      <th>1</th>\n",
       "      <td>Villa</td>\n",
       "      <td>2016</td>\n",
       "      <td>August</td>\n",
       "      <td>30-08-2016</td>\n",
       "      <td>35</td>\n",
       "      <td>25</td>\n",
       "      <td>2</td>\n",
       "      <td>3</td>\n",
       "      <td>Bed &amp; Breakfast</td>\n",
       "      <td>No Deposit</td>\n",
       "      <td>...</td>\n",
       "      <td>A</td>\n",
       "      <td>1</td>\n",
       "      <td>0</td>\n",
       "      <td>Transient</td>\n",
       "      <td>150.0</td>\n",
       "      <td>1</td>\n",
       "      <td>1</td>\n",
       "      <td>Check-Out</td>\n",
       "      <td>0</td>\n",
       "      <td>27</td>\n",
       "    </tr>\n",
       "    <tr>\n",
       "      <th>2</th>\n",
       "      <td>Villa</td>\n",
       "      <td>2017</td>\n",
       "      <td>April</td>\n",
       "      <td>23-04-2017</td>\n",
       "      <td>16</td>\n",
       "      <td>21</td>\n",
       "      <td>1</td>\n",
       "      <td>1</td>\n",
       "      <td>Bed &amp; Breakfast</td>\n",
       "      <td>No Deposit</td>\n",
       "      <td>...</td>\n",
       "      <td>A</td>\n",
       "      <td>0</td>\n",
       "      <td>0</td>\n",
       "      <td>Transient-Party</td>\n",
       "      <td>44.0</td>\n",
       "      <td>0</td>\n",
       "      <td>1</td>\n",
       "      <td>Check-Out</td>\n",
       "      <td>0</td>\n",
       "      <td>180</td>\n",
       "    </tr>\n",
       "    <tr>\n",
       "      <th>3</th>\n",
       "      <td>Motel</td>\n",
       "      <td>2016</td>\n",
       "      <td>June</td>\n",
       "      <td>29-06-2016</td>\n",
       "      <td>27</td>\n",
       "      <td>27</td>\n",
       "      <td>2</td>\n",
       "      <td>0</td>\n",
       "      <td>Bed &amp; Breakfast</td>\n",
       "      <td>No Deposit</td>\n",
       "      <td>...</td>\n",
       "      <td>D</td>\n",
       "      <td>0</td>\n",
       "      <td>0</td>\n",
       "      <td>Transient</td>\n",
       "      <td>151.0</td>\n",
       "      <td>0</td>\n",
       "      <td>4</td>\n",
       "      <td>Check-Out</td>\n",
       "      <td>0</td>\n",
       "      <td>59</td>\n",
       "    </tr>\n",
       "    <tr>\n",
       "      <th>4</th>\n",
       "      <td>Motel</td>\n",
       "      <td>2016</td>\n",
       "      <td>August</td>\n",
       "      <td>22-08-2016</td>\n",
       "      <td>34</td>\n",
       "      <td>20</td>\n",
       "      <td>0</td>\n",
       "      <td>2</td>\n",
       "      <td>Breakfast &amp; Dinner</td>\n",
       "      <td>No Deposit</td>\n",
       "      <td>...</td>\n",
       "      <td>A</td>\n",
       "      <td>0</td>\n",
       "      <td>0</td>\n",
       "      <td>Transient-Party</td>\n",
       "      <td>115.0</td>\n",
       "      <td>0</td>\n",
       "      <td>1</td>\n",
       "      <td>Check-Out</td>\n",
       "      <td>0</td>\n",
       "      <td>313</td>\n",
       "    </tr>\n",
       "  </tbody>\n",
       "</table>\n",
       "<p>5 rows × 29 columns</p>\n",
       "</div>"
      ],
      "text/plain": [
       "  Type of Hotel  Year   Month Reservation Date  Arrival week  Arrival Date  \\\n",
       "0         Motel  2015    July       03-08-2015            31            28   \n",
       "1         Villa  2016  August       30-08-2016            35            25   \n",
       "2         Villa  2017   April       23-04-2017            16            21   \n",
       "3         Motel  2016    June       29-06-2016            27            27   \n",
       "4         Motel  2016  August       22-08-2016            34            20   \n",
       "\n",
       "   Weekend Stays  Weekday Stays                Meal Booking Payment  ...  \\\n",
       "0              2              3     Bed & Breakfast      No Deposit  ...   \n",
       "1              2              3     Bed & Breakfast      No Deposit  ...   \n",
       "2              1              1     Bed & Breakfast      No Deposit  ...   \n",
       "3              2              0     Bed & Breakfast      No Deposit  ...   \n",
       "4              0              2  Breakfast & Dinner      No Deposit  ...   \n",
       "\n",
       "   Assigned Room  Booking Changes  Waiting List         Customer  \\\n",
       "0              A                0             0         Contract   \n",
       "1              A                1             0        Transient   \n",
       "2              A                0             0  Transient-Party   \n",
       "3              D                0             0        Transient   \n",
       "4              A                0             0  Transient-Party   \n",
       "\n",
       "  Per Day Charges  Parking at premises  Physical Challenged  \\\n",
       "0           132.0                    0                    2   \n",
       "1           150.0                    1                    1   \n",
       "2            44.0                    0                    1   \n",
       "3           151.0                    0                    4   \n",
       "4           115.0                    0                    1   \n",
       "\n",
       "   Reservation Status Cancellation Booking Done  \n",
       "0           Check-Out            0           44  \n",
       "1           Check-Out            0           27  \n",
       "2           Check-Out            0          180  \n",
       "3           Check-Out            0           59  \n",
       "4           Check-Out            0          313  \n",
       "\n",
       "[5 rows x 29 columns]"
      ]
     },
     "execution_count": 4,
     "metadata": {},
     "output_type": "execute_result"
    }
   ],
   "source": [
    "df.head()"
   ]
  },
  {
   "cell_type": "code",
   "execution_count": 5,
   "metadata": {
    "colab": {
     "base_uri": "https://localhost:8080/"
    },
    "id": "dLk2vL84wLHC",
    "outputId": "f19012f2-97e3-4ed1-ba73-6921e1598512"
   },
   "outputs": [
    {
     "data": {
      "text/plain": [
       "Type of Hotel            0\n",
       "Year                     0\n",
       "Month                    0\n",
       "Reservation Date         0\n",
       "Arrival week             0\n",
       "Arrival Date             0\n",
       "Weekend Stays            0\n",
       "Weekday Stays            0\n",
       "Meal                     0\n",
       "Booking Payment          0\n",
       "Adults                   0\n",
       "Children                 2\n",
       "Kids                     0\n",
       "Country                371\n",
       "Booking Type             0\n",
       "Repeated Guest           0\n",
       "Prev Cancel              0\n",
       "History                  0\n",
       "Reserved Room            0\n",
       "Assigned Room            0\n",
       "Booking Changes          0\n",
       "Waiting List             0\n",
       "Customer                 0\n",
       "Per Day Charges          0\n",
       "Parking at premises      0\n",
       "Physical Challenged      0\n",
       "Reservation Status       0\n",
       "Cancellation             0\n",
       "Booking Done             0\n",
       "dtype: int64"
      ]
     },
     "execution_count": 5,
     "metadata": {},
     "output_type": "execute_result"
    }
   ],
   "source": [
    "df.isnull().sum()"
   ]
  },
  {
   "cell_type": "code",
   "execution_count": 6,
   "metadata": {
    "colab": {
     "base_uri": "https://localhost:8080/"
    },
    "id": "ubRfy3t5wZ6Z",
    "outputId": "8a65dba2-9da9-4871-b0dd-d8ce99b84ca8"
   },
   "outputs": [
    {
     "name": "stdout",
     "output_type": "stream",
     "text": [
      "<class 'pandas.core.frame.DataFrame'>\n",
      "RangeIndex: 90000 entries, 0 to 89999\n",
      "Data columns (total 29 columns):\n",
      " #   Column               Non-Null Count  Dtype  \n",
      "---  ------               --------------  -----  \n",
      " 0   Type of Hotel        90000 non-null  object \n",
      " 1   Year                 90000 non-null  int64  \n",
      " 2   Month                90000 non-null  object \n",
      " 3   Reservation Date     90000 non-null  object \n",
      " 4   Arrival week         90000 non-null  int64  \n",
      " 5   Arrival Date         90000 non-null  int64  \n",
      " 6   Weekend Stays        90000 non-null  int64  \n",
      " 7   Weekday Stays        90000 non-null  int64  \n",
      " 8   Meal                 90000 non-null  object \n",
      " 9   Booking Payment      90000 non-null  object \n",
      " 10  Adults               90000 non-null  int64  \n",
      " 11  Children             89998 non-null  float64\n",
      " 12  Kids                 90000 non-null  int64  \n",
      " 13  Country              89629 non-null  object \n",
      " 14  Booking Type         90000 non-null  object \n",
      " 15  Repeated Guest       90000 non-null  int64  \n",
      " 16  Prev Cancel          90000 non-null  int64  \n",
      " 17  History              90000 non-null  int64  \n",
      " 18  Reserved Room        90000 non-null  object \n",
      " 19  Assigned Room        90000 non-null  object \n",
      " 20  Booking Changes      90000 non-null  int64  \n",
      " 21  Waiting List         90000 non-null  int64  \n",
      " 22  Customer             90000 non-null  object \n",
      " 23  Per Day Charges      90000 non-null  float64\n",
      " 24  Parking at premises  90000 non-null  int64  \n",
      " 25  Physical Challenged  90000 non-null  int64  \n",
      " 26  Reservation Status   90000 non-null  object \n",
      " 27  Cancellation         90000 non-null  int64  \n",
      " 28  Booking Done         90000 non-null  int64  \n",
      "dtypes: float64(2), int64(16), object(11)\n",
      "memory usage: 19.9+ MB\n"
     ]
    }
   ],
   "source": [
    "df.info()"
   ]
  },
  {
   "cell_type": "code",
   "execution_count": 7,
   "metadata": {
    "id": "xNtbWM7U7-b6"
   },
   "outputs": [],
   "source": [
    "df[\"Country\"].fillna(\"XYZ\",inplace=True)\n",
    "df[\"Children\"].fillna(0,inplace=True)\n",
    "df[\"Children\"]=df[\"Children\"].astype(np.int64)"
   ]
  },
  {
   "cell_type": "code",
   "execution_count": 8,
   "metadata": {
    "id": "Ferj6F7n8-_a"
   },
   "outputs": [],
   "source": [
    "df.columns=df.columns.str.replace(\" \",\"_\")"
   ]
  },
  {
   "cell_type": "markdown",
   "metadata": {
    "id": "cXbX20Wv9cBi"
   },
   "source": [
    "# **EDA**"
   ]
  },
  {
   "cell_type": "code",
   "execution_count": 9,
   "metadata": {
    "colab": {
     "base_uri": "https://localhost:8080/",
     "height": 295
    },
    "id": "LE5RfCrb9Xf2",
    "outputId": "d934e4b3-21a0-49ad-d983-28a872ebcd83"
   },
   "outputs": [
    {
     "data": {
      "image/png": "[encoded data removed]",
      "text/plain": [
       "<Figure size 432x288 with 1 Axes>"
      ]
     },
     "metadata": {
      "needs_background": "light"
     },
     "output_type": "display_data"
    }
   ],
   "source": [
    "import matplotlib.pyplot as plt\n",
    "import seaborn as sns\n",
    "sns.countplot (x= 'Year', data= df, hue= 'Type_of_Hotel').set_title ('yearly bookings')\n",
    "plt.show()"
   ]
  },
  {
   "cell_type": "markdown",
   "metadata": {
    "id": "anbBk2tL-Rk5"
   },
   "source": [
    "Here we can see bookings in 2016 is high.\n",
    "and Motel bookings are high as compared to Villas."
   ]
  },
  {
   "cell_type": "code",
   "execution_count": 10,
   "metadata": {
    "colab": {
     "base_uri": "https://localhost:8080/",
     "height": 265
    },
    "id": "388daolEXNLQ",
    "outputId": "18251ef5-50be-42d8-a351-159e7adf63bb"
   },
   "outputs": [
    {
     "data": {
      "image/png": "[encoded data removed]",
      "text/plain": [
       "<Figure size 432x288 with 1 Axes>"
      ]
     },
     "metadata": {
      "needs_background": "light"
     },
     "output_type": "display_data"
    }
   ],
   "source": [
    "plt.bar(x= \"Type_of_Hotel\", height= 'Per_Day_Charges', data= df)\n",
    "plt.show()"
   ]
  },
  {
   "cell_type": "markdown",
   "metadata": {
    "id": "vKe_2bhJZ0kN"
   },
   "source": [
    "There is not much diference in prices of Motels and Villas.\n",
    "But still bookings are high in Motels."
   ]
  },
  {
   "cell_type": "code",
   "execution_count": 12,
   "metadata": {
    "colab": {
     "base_uri": "https://localhost:8080/",
     "height": 265
    },
    "id": "wotfNTfWaFZM",
    "outputId": "fac2ea9f-92cd-43be-8e9b-b659092198d7"
   },
   "outputs": [
    {
     "data": {
      "image/png": "[encoded data removed]",
      "text/plain": [
       "<Figure size 432x288 with 1 Axes>"
      ]
     },
     "metadata": {
      "needs_background": "light"
     },
     "output_type": "display_data"
    }
   ],
   "source": [
    "plt.bar(x= \"Year\", height= 'Per_Day_Charges', data= df)\n",
    "plt.show()"
   ]
  },
  {
   "cell_type": "markdown",
   "metadata": {
    "id": "MMViPYnCbHHc"
   },
   "source": [
    "Prices have been increased yearly.\n",
    "that is why the bookings decreased in year 2017."
   ]
  },
  {
   "cell_type": "code",
   "execution_count": 13,
   "metadata": {
    "colab": {
     "base_uri": "https://localhost:8080/",
     "height": 281
    },
    "id": "gBhH3StuYWup",
    "outputId": "0b0b2f75-7b09-4d44-a9fa-a8101a99dfc0"
   },
   "outputs": [
    {
     "data": {
      "image/png": "[encoded data removed]",
      "text/plain": [
       "<Figure size 432x288 with 1 Axes>"
      ]
     },
     "metadata": {
      "needs_background": "light"
     },
     "output_type": "display_data"
    }
   ],
   "source": [
    "sns.barplot (y= list(df.Country.value_counts().head(10)), x= list(df.Country.value_counts().head(10).index))\n",
    "plt.title('booking counts accross the globe')\n",
    "plt.show()"
   ]
  },
  {
   "cell_type": "markdown",
   "metadata": {
    "id": "-NdM7SWWbyWo"
   },
   "source": [
    "PRT has higher bookings than any other country"
   ]
  },
  {
   "cell_type": "markdown",
   "metadata": {
    "id": "O42D7jSsb-Rx"
   },
   "source": [
    "in prt bookings are done from online/offline/ something else?"
   ]
  },
  {
   "cell_type": "code",
   "execution_count": 27,
   "metadata": {
    "colab": {
     "base_uri": "https://localhost:8080/",
     "height": 301
    },
    "id": "jip3N_qkzQrb",
    "outputId": "43bebce7-d849-4a6e-eb44-b935f8179bf9"
   },
   "outputs": [
    {
     "data": {
      "image/png": "[encoded data removed]",
      "text/plain": [
       "<Figure size 432x288 with 1 Axes>"
      ]
     },
     "metadata": {},
     "output_type": "display_data"
    }
   ],
   "source": [
    "sns.set(style = \"darkgrid\")\n",
    "plt.title(\"Booking Canceled by Hotel Type\")\n",
    "ax = sns.countplot(x = \"Type_of_Hotel\", hue ='Cancellation' , data = df)\n"
   ]
  },
  {
   "cell_type": "markdown",
   "metadata": {
    "id": "SZ5rH2Kd3ITa"
   },
   "source": [
    "Around 35% cancellation was done by Motel while 20% cancellation done by Villa."
   ]
  },
  {
   "cell_type": "code",
   "execution_count": 28,
   "metadata": {
    "colab": {
     "base_uri": "https://localhost:8080/",
     "height": 736
    },
    "id": "J8l55Q4QcdDC",
    "outputId": "28b25cbd-76ca-433d-dbf9-0c299aa6855c"
   },
   "outputs": [
    {
     "data": {
      "image/png": "[encoded data removed]",
      "text/plain": [
       "<Figure size 1008x864 with 1 Axes>"
      ]
     },
     "metadata": {},
     "output_type": "display_data"
    }
   ],
   "source": [
    "plt.figure(figsize=(14,12))\n",
    "sns.countplot (x= 'Month', data= df, hue= 'Type_of_Hotel').set_title ('Monthly bookings')\n",
    "plt.show()"
   ]
  },
  {
   "cell_type": "markdown",
   "metadata": {
    "id": "jJiaOwbY3pY-"
   },
   "source": [
    "in the month of august the bookings are high for both Motels and Villas\n"
   ]
  },
  {
   "cell_type": "code",
   "execution_count": 29,
   "metadata": {
    "colab": {
     "base_uri": "https://localhost:8080/",
     "height": 301
    },
    "id": "JIpm5YYN5WuH",
    "outputId": "4003dbcb-0e42-4aec-fc7a-4a3392ef40a6"
   },
   "outputs": [
    {
     "data": {
      "image/png": "[encoded data removed]",
      "text/plain": [
       "<Figure size 432x288 with 1 Axes>"
      ]
     },
     "metadata": {},
     "output_type": "display_data"
    }
   ],
   "source": [
    "sns.countplot (x= 'Customer', data= df, hue= 'Type_of_Hotel').set_title ('Customer wise bookings')\n",
    "plt.show()"
   ]
  },
  {
   "cell_type": "markdown",
   "metadata": {
    "id": "ok3UhdNZ5oVO"
   },
   "source": [
    "we can see the transient bookings are more. And that too it is more in Motels."
   ]
  },
  {
   "cell_type": "code",
   "execution_count": 35,
   "metadata": {
    "colab": {
     "base_uri": "https://localhost:8080/",
     "height": 266
    },
    "id": "I3KTgWYh6To4",
    "outputId": "4380b6d2-9fc6-47ce-cb69-ac2960de9fa3"
   },
   "outputs": [
    {
     "data": {
      "text/plain": [
       "<matplotlib.axes._subplots.AxesSubplot at 0x7f8b2c235090>"
      ]
     },
     "execution_count": 35,
     "metadata": {},
     "output_type": "execute_result"
    },
    {
     "data": {
      "image/png": "[encoded data removed]",
      "text/plain": [
       "<Figure size 432x288 with 1 Axes>"
      ]
     },
     "metadata": {},
     "output_type": "display_data"
    }
   ],
   "source": [
    "df.groupby(['Meal']).sum().plot(kind='pie', y='Cancellation')"
   ]
  },
  {
   "cell_type": "markdown",
   "metadata": {
    "id": "EbBkg6Nm8SWr"
   },
   "source": [
    "Those who are booking for Breakfast Lunch Dinner have less cancellation.And those who book for Bed and Breakfast Have higher cancellation."
   ]
  },
  {
   "cell_type": "code",
   "execution_count": 37,
   "metadata": {
    "colab": {
     "base_uri": "https://localhost:8080/",
     "height": 266
    },
    "id": "PGP3-XC28om6",
    "outputId": "7e10ce78-7c5a-4278-b8f3-3ee75362a8b7"
   },
   "outputs": [
    {
     "data": {
      "text/plain": [
       "<matplotlib.axes._subplots.AxesSubplot at 0x7f8b2c153450>"
      ]
     },
     "execution_count": 37,
     "metadata": {},
     "output_type": "execute_result"
    },
    {
     "data": {
      "image/png": "[encoded data removed]",
      "text/plain": [
       "<Figure size 432x288 with 1 Axes>"
      ]
     },
     "metadata": {},
     "output_type": "display_data"
    }
   ],
   "source": [
    "df.groupby(['Booking_Payment']).sum().plot(kind='pie', y='Cancellation')"
   ]
  },
  {
   "cell_type": "markdown",
   "metadata": {
    "id": "0o-A_jK09CM2"
   },
   "source": [
    "Those who have not paid deposit have high Cancellation.\n",
    "But paid deposit and refundable still they are not cancelling but who paid deposit and they know their amount is non refundable still they cancell their bookings. "
   ]
  },
  {
   "cell_type": "code",
   "execution_count": 1,
   "metadata": {
    "colab": {
     "base_uri": "https://localhost:8080/"
    },
    "id": "I0u6_YLqvLHl",
    "outputId": "97cb40a7-7010-46ea-ff5b-589128c87f36"
   },
   "outputs": [
    {
     "name": "stdout",
     "output_type": "stream",
     "text": [
      "Mounted at /content/drive\n"
     ]
    }
   ],
   "source": [
    "from google.colab import drive\n",
    "drive.mount('/content/drive')"
   ]
  },
  {
   "cell_type": "markdown",
   "metadata": {
    "id": "M6EzDXnab9ca"
   },
   "source": []
  }
 ],
 "metadata": {
  "colab": {
   "provenance": []
  },
  "kernelspec": {
   "display_name": "Python 3 (ipykernel)",
   "language": "python",
   "name": "python3"
  },
  "language_info": {
   "codemirror_mode": {
    "name": "ipython",
    "version": 3
   },
   "file_extension": ".py",
   "mimetype": "text/x-python",
   "name": "python",
   "nbconvert_exporter": "python",
   "pygments_lexer": "ipython3",
   "version": "3.9.7"
  }
 },
 "nbformat": 4,
 "nbformat_minor": 1
}
